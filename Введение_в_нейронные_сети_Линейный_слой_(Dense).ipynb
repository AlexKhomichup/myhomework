{
  "nbformat": 4,
  "nbformat_minor": 0,
  "metadata": {
    "colab": {
      "provenance": [],
      "gpuType": "T4"
    },
    "kernelspec": {
      "name": "python3",
      "display_name": "Python 3"
    },
    "language_info": {
      "name": "python"
    },
    "accelerator": "GPU"
  },
  "cells": [
    {
      "cell_type": "markdown",
      "metadata": {
        "id": "d_qXycKuUA51"
      },
      "source": [
        "### Задание"
      ]
    },
    {
      "cell_type": "code",
      "metadata": {
        "id": "LvOL2h3EdC9y"
      },
      "source": [
        "# Подключение класса для создания нейронной сети прямого распространения\n",
        "from tensorflow.keras.models import Sequential\n",
        "# Подключение класса для создания полносвязного слоя\n",
        "from tensorflow.keras.layers import Dense\n",
        "# Подключение оптимизатора\n",
        "from tensorflow.keras.optimizers import Adam\n",
        "# Подключение утилит для to_categorical\n",
        "from tensorflow.keras import utils\n",
        "# Подключение библиотеки для загрузки изображений\n",
        "from tensorflow.keras.preprocessing import image\n",
        "# Подключение библиотеки для работы с массивами\n",
        "import numpy as np\n",
        "# Подключение модуля для работы с файлами\n",
        "import os\n",
        "# Подключение библиотек для отрисовки изображений\n",
        "import matplotlib.pyplot as plt\n",
        "from PIL import Image\n",
        "# Вывод изображения в ноутбуке, а не в консоли или файле\n",
        "%matplotlib inline"
      ],
      "execution_count": null,
      "outputs": []
    },
    {
      "cell_type": "code",
      "metadata": {
        "colab": {
          "base_uri": "https://localhost:8080/",
          "height": 35
        },
        "id": "lJSH41rM12IE",
        "outputId": "97a8d8cc-457c-4e9d-e84f-d738862f1fae"
      },
      "source": [
        "# Загрузка датасета из облака\n",
        "import gdown\n",
        "gdown.download('https://storage.yandexcloud.net/aiueducation/Content/base/l3/hw_pro.zip', None, quiet=True)"
      ],
      "execution_count": null,
      "outputs": [
        {
          "output_type": "execute_result",
          "data": {
            "text/plain": [
              "'hw_pro.zip'"
            ],
            "application/vnd.google.colaboratory.intrinsic+json": {
              "type": "string"
            }
          },
          "metadata": {},
          "execution_count": 2
        }
      ]
    },
    {
      "cell_type": "code",
      "metadata": {
        "id": "5HAhCsCJ1_hJ"
      },
      "source": [
        "# Распаковываем архив hw_light.zip в папку hw_light\n",
        "!unzip -q hw_pro.zip"
      ],
      "execution_count": null,
      "outputs": []
    },
    {
      "cell_type": "code",
      "metadata": {
        "colab": {
          "base_uri": "https://localhost:8080/"
        },
        "id": "HhHbCet01zmG",
        "outputId": "086832c7-4ae2-4937-ad73-9bca14e632f8"
      },
      "source": [
        "# Путь к директории с базой\n",
        "base_dir = '/content/hw_pro'\n",
        "# Создание пустого списка для загрузки изображений обучающей выборки\n",
        "x_train = []\n",
        "# Создание списка для меток классов\n",
        "y_train = []\n",
        "# Задание высоты и ширины загружаемых изображений\n",
        "img_height = 20\n",
        "img_width = 20\n",
        "# Перебор папок в директории базы\n",
        "for patch in os.listdir(base_dir):\n",
        "    # Перебор файлов в папках\n",
        "    for img in os.listdir(base_dir + '/' + patch):\n",
        "        # Добавление в список изображений текущей картинки\n",
        "        x_train.append(image.img_to_array(image.load_img(base_dir + '/' + patch + '/' + img,\n",
        "                                                         target_size=(img_height, img_width),\n",
        "                                                         color_mode='grayscale')))\n",
        "        # Добавление в массив меток, соответствующих классам\n",
        "        if patch == '0':\n",
        "            y_train.append(0)\n",
        "        else:\n",
        "            y_train.append(1)\n",
        "# Преобразование в numpy-массив загруженных изображений и меток классов\n",
        "x_train = np.array(x_train)\n",
        "y_train = np.array(y_train)\n",
        "x_train = x_train.reshape(-1,400)\n",
        "# Вывод размерностей\n",
        "print('Размер массива x_train', x_train.shape)\n",
        "print('Размер массива y_train', y_train.shape)\n"
      ],
      "execution_count": null,
      "outputs": [
        {
          "output_type": "stream",
          "name": "stdout",
          "text": [
            "Размер массива x_train (102, 400)\n",
            "Размер массива y_train (102,)\n"
          ]
        }
      ]
    },
    {
      "cell_type": "code",
      "metadata": {
        "id": "TJLh3F3N2DCD",
        "colab": {
          "base_uri": "https://localhost:8080/"
        },
        "outputId": "496b44bd-ccf1-4af9-f349-ac52f5dd2384"
      },
      "source": [
        "model = Sequential()\n",
        "model.add(Dense(100,input_dim=400,activation='relu'))\n",
        "model.add(Dense(50,activation='relu'))\n",
        "model.add(Dense(1,activation = 'sigmoid'))\n",
        "\n",
        "model.compile(loss='binary_crossentropy',optimizer = 'adam',metrics = ['accuracy'])\n",
        "utils.plot_model(model,to_file='model_plot.png',show_shapes=True)\n",
        "\n",
        "model.fit(x_train,y_train,\n",
        "          batch_size=35,\n",
        "          epochs = 15,\n",
        "          verbose = 1)\n",
        "\n",
        "\n"
      ],
      "execution_count": null,
      "outputs": [
        {
          "output_type": "stream",
          "name": "stdout",
          "text": [
            "Epoch 1/15\n",
            "3/3 [==============================] - 1s 7ms/step - loss: 130.6555 - accuracy: 0.5098\n",
            "Epoch 2/15\n",
            "3/3 [==============================] - 0s 6ms/step - loss: 46.2328 - accuracy: 0.5294\n",
            "Epoch 3/15\n",
            "3/3 [==============================] - 0s 5ms/step - loss: 30.4989 - accuracy: 0.5392\n",
            "Epoch 4/15\n",
            "3/3 [==============================] - 0s 6ms/step - loss: 15.9725 - accuracy: 0.7059\n",
            "Epoch 5/15\n",
            "3/3 [==============================] - 0s 8ms/step - loss: 21.7909 - accuracy: 0.5784\n",
            "Epoch 6/15\n",
            "3/3 [==============================] - 0s 6ms/step - loss: 13.6273 - accuracy: 0.6569\n",
            "Epoch 7/15\n",
            "3/3 [==============================] - 0s 6ms/step - loss: 9.0639 - accuracy: 0.7059\n",
            "Epoch 8/15\n",
            "3/3 [==============================] - 0s 7ms/step - loss: 6.1324 - accuracy: 0.7549\n",
            "Epoch 9/15\n",
            "3/3 [==============================] - 0s 6ms/step - loss: 5.0368 - accuracy: 0.8039\n",
            "Epoch 10/15\n",
            "3/3 [==============================] - 0s 6ms/step - loss: 2.1106 - accuracy: 0.8824\n",
            "Epoch 11/15\n",
            "3/3 [==============================] - 0s 6ms/step - loss: 2.6043 - accuracy: 0.8431\n",
            "Epoch 12/15\n",
            "3/3 [==============================] - 0s 6ms/step - loss: 3.0962 - accuracy: 0.8529\n",
            "Epoch 13/15\n",
            "3/3 [==============================] - 0s 6ms/step - loss: 1.1511 - accuracy: 0.9020\n",
            "Epoch 14/15\n",
            "3/3 [==============================] - 0s 7ms/step - loss: 1.1869 - accuracy: 0.9020\n",
            "Epoch 15/15\n",
            "3/3 [==============================] - 0s 6ms/step - loss: 0.2236 - accuracy: 0.9804\n"
          ]
        },
        {
          "output_type": "execute_result",
          "data": {
            "text/plain": [
              "<keras.callbacks.History at 0x7f5590fc7f70>"
            ]
          },
          "metadata": {},
          "execution_count": 13
        }
      ]
    },
    {
      "cell_type": "code",
      "source": [
        "losss,accuracy = model.evaluate(x_test,y_test,verbose=0)\n",
        "print(f'Тест loss {loss:.4f}')\n",
        "print(f'Тест accuracy {accuracy:.4f}')\n",
        "\n"
      ],
      "metadata": {
        "id": "eLodQIWsC-8y"
      },
      "execution_count": null,
      "outputs": []
    },
    {
      "cell_type": "markdown",
      "source": [
        "Добились на модели точности 0.9804 от 1 до 15 эпохи она возрастала, а функция ошибок уменьшалась с каждой эпохой со 130.655 до 0.2236\n"
      ],
      "metadata": {
        "id": "fZM-PBYbETQc"
      }
    }
  ]
}